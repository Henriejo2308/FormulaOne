{
 "cells": [
  {
   "cell_type": "code",
   "execution_count": 7,
   "metadata": {},
   "outputs": [],
   "source": [
    "import numpy as np\n",
    "import pandas as pd# Import Data\n",
    "results_dataframe = pd.read_csv(r\"C:\\Users\\henjo\\OneDrive\\Skrivebord\\Studier\\Kommunikasjonsdesign\\formula\\jupyter\\dataset\\results.csv\")\n",
    "circuits_dataframe = pd.read_csv(r\"C:\\Users\\henjo\\OneDrive\\Skrivebord\\Studier\\Kommunikasjonsdesign\\formula\\jupyter\\dataset\\circuits.csv\")\n",
    "drivers_dataframe = pd.read_csv(r\"C:\\Users\\henjo\\OneDrive\\Skrivebord\\Studier\\Kommunikasjonsdesign\\formula\\jupyter\\dataset\\drivers.csv\")\n",
    "races_dataframe = pd.read_csv(r\"C:\\Users\\henjo\\OneDrive\\Skrivebord\\Studier\\Kommunikasjonsdesign\\formula\\jupyter\\dataset\\races.csv\")\n",
    "constructor_dataframe = pd.read_csv(r\"C:\\Users\\henjo\\OneDrive\\Skrivebord\\Studier\\Kommunikasjonsdesign\\formula\\jupyter\\dataset\\constructors.csv\")"
   ]
  }
 ],
 "metadata": {
  "kernelspec": {
   "display_name": "Python 3",
   "language": "python",
   "name": "python3"
  },
  "language_info": {
   "codemirror_mode": {
    "name": "ipython",
    "version": 3
   },
   "file_extension": ".py",
   "mimetype": "text/x-python",
   "name": "python",
   "nbconvert_exporter": "python",
   "pygments_lexer": "ipython3",
   "version": "3.10.13"
  }
 },
 "nbformat": 4,
 "nbformat_minor": 2
}
